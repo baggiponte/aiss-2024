{
 "cells": [
  {
   "cell_type": "markdown",
   "id": "0",
   "metadata": {},
   "source": [
    "# Da zero a Sasso-Carta-Forbice"
   ]
  },
  {
   "cell_type": "markdown",
   "id": "1",
   "metadata": {},
   "source": [
    "# Cos'è la programmazione\n",
    "\n",
    "La programmazione è il nome di un processo con cui costruiamo \"sistemi informatici\": da potenti supercomputer ai tostapane, passando per i siti web. È un ambito vastissimo con applicazioni altrettanto innumerevoli. In poche parole, però, possiamo descriverlo come il modo in cui disegniamo le istruzioni per una macchina, attraverso i linguaggi di programmazione.\n",
    "\n",
    "Ci sono molti linguaggi di programmazione, ognuno con le sue peculiarità. Alcuni sono molto \"vicini alle macchine\", altri invece sono più \"astratti\" (o di \"alto livello\") e ci consentono di programmare con un linguaggio molto più vicino a quello che usiamo per comunicare. Python è uno di questi.\n",
    "\n",
    "Facciamo un piccolo esempio. Qui sotto c'è una *cella* che contiene del codice. Per eseguirla, selezionatela e premete l'icona a forma di \"tasto play\" o i tasti control + enter."
   ]
  },
  {
   "cell_type": "code",
   "execution_count": null,
   "id": "2",
   "metadata": {},
   "outputs": [],
   "source": [
    "print(\"hello world!\")"
   ]
  },
  {
   "cell_type": "markdown",
   "id": "3",
   "metadata": {},
   "source": [
    "Ecco: ora avete compiuto il primo passo di ogni programmatore. Questo è Python!\n",
    "\n",
    "Se steste usando un altro linguaggio, per esempio Java, avreste dovuto scrivere:\n",
    "\n",
    "```java\n",
    "// This is a comment in Java. It won't affect the execution of the program.\n",
    "\n",
    "// The class declaration. Every Java program must have at least one class.\n",
    "public class HelloWorld {\n",
    "\n",
    "    // The main method. This is the entry point of the program.\n",
    "    public static void main(String[] args) {\n",
    "\n",
    "        // This line prints \"Hello, World!\" to the console.\n",
    "        System.out.println(\"Hello, World!\");\n",
    "    }\n",
    "}\n",
    "```\n",
    "\n",
    "Non tutti i linguaggi sono così verbosi e ognuno ha i suoi pro e contro. Certo è che Python è uno dei linguaggi più accessibili e immediati da imparare, nel bene e nel male, e per questo moltissime persone - anche non programmatori - lo usano per tantissimi usi: siti web, ricerca scientifica in moltissimi ambiti (dalla fisica all'ingegneria all'ambito medico...), microcontrollori e, ovviamente, l'intelligenza artificiale. Instagram, per esempio, è costruito con Python (più o meno). Grandissime aziende come Google, Microsoft, Amazon, Walmart, Netflix, Spotify, OpenAI... usano tutte Python, in un modo o nell'altro, specialmente se si tratta di intelligenza artificiale. Non è sicuramente l'unico linguaggio usato, ma è di gran lunga il più noto per l'AI.\n",
    "\n",
    "Essendo così popolare, la community di sviluppatori ha costruito tantissimi progetti per usare Python in moltissimi ambiti: difficilmente si deve partire da zero per costruire qualcosa, e questo rende costruire progetti ancora più rapido. Inoltre, Python fa parte delle cosiddette tecnologie \"open source\": progetti ad accesso libero e gratuito, il cui codice si può ispezionare, cambiare e ridistribuire e anche rivendere.\n",
    "\n",
    "Oggi, però, non ci occuperemo solo di costruire qualcosa (quasi) da zero. Familiarizzeremo con Python quanto basta per esplorare dei dati - principalmente delle fotografie - e costruire la nostra prima rete neurale. Il nostro obiettivo è di capire come abbiamo costruito programmi (e algoritmi) in grado di \"apprendere\": capiremo in che senso le \"intelligenze articiali imparano\" e a costruire rappresentazioni numeriche di cose come fotografie e testo, in modo che i computer possano \"imparare\". Nel farlo, impareremo anche un po' delle basi della programmazione e di Python.\n",
    "\n",
    "Cercheremo di sfatare qualche mito, dando definizioni più precise di \"intelligenza artificiale\", \"machine learning\" e \"rete neurale\", cercando di capirne i limiti e le applicazioni.\n",
    "\n",
    "Prima di iniziare a scrivere codice, ecco qualche riferimento per chi volesse approfondire:\n",
    "\n",
    "1. [Libro](https://www.amazon.com/PYTHON-BERI-MARCO-Marco-Beri/dp/8850329156) (a pagamento) in italiano su Python\n",
    "2. [Sito per imparare Python](https://pythonitalia.github.io/python-abc/) fatte da Python Italia, l'associazione di riferimento per i Pythonisti italiani\n",
    "3. [Documentazione ufficiale di Python](https://docs.python.org/it/3)\n",
    "4. I libri di No Starch Press: [Automate Boring Stuff with Python](https://automatetheboringstuff.com/) e [How computers really work](https://www.howcomputersreallywork.com/) si occupano di molto di più."
   ]
  },
  {
   "cell_type": "markdown",
   "id": "4",
   "metadata": {},
   "source": [
    "## I primi passi con gli oggetti"
   ]
  },
  {
   "cell_type": "markdown",
   "id": "5",
   "metadata": {},
   "source": [
    "In Python, tutto è un oggetto:"
   ]
  },
  {
   "cell_type": "code",
   "execution_count": null,
   "id": "6",
   "metadata": {},
   "outputs": [],
   "source": [
    "2"
   ]
  },
  {
   "cell_type": "code",
   "execution_count": null,
   "id": "7",
   "metadata": {},
   "outputs": [],
   "source": [
    "\"Luca\""
   ]
  },
  {
   "cell_type": "markdown",
   "id": "8",
   "metadata": {},
   "source": [
    "Come in matematica, possiamo eseguire operazioni tra gli oggetti:"
   ]
  },
  {
   "cell_type": "code",
   "execution_count": null,
   "id": "9",
   "metadata": {},
   "outputs": [],
   "source": [
    "2 * 3"
   ]
  },
  {
   "cell_type": "markdown",
   "id": "10",
   "metadata": {},
   "source": [
    "Il risultato di 2 * 3 è un oggetto: 6. Per \"salvarci\" questo numero e riusarlo in altre parti del nostro programma, però, possiamo assegnarlo a una variabile:"
   ]
  },
  {
   "cell_type": "code",
   "execution_count": null,
   "id": "11",
   "metadata": {},
   "outputs": [],
   "source": [
    "nome = \"Luca\"\n",
    "eta = 17\n",
    "\n",
    "risultato = 3 * 6"
   ]
  },
  {
   "cell_type": "code",
   "execution_count": null,
   "id": "12",
   "metadata": {},
   "outputs": [],
   "source": [
    "risultato"
   ]
  },
  {
   "cell_type": "markdown",
   "id": "13",
   "metadata": {},
   "source": [
    "In questo modo, non solo possiamo scrivere del codice in maniera più semplice, ma rendiamo anche chiare le nostre intenzioni e il significato di quello che facciamo.\n",
    "\n",
    "Abbiamo detto che programmare significa spiegare al computer delle istruzioni: è sicuramente vero, ma al computer non importa se usiamo le variabili o se scriviamo `numero = \"Luca\"` - non è che ci dirà che è un errore. Quando programmiamo, stiamo innanzitutto comunicando ad altre persone, che leggeranno il nostro codice dopo di noi - anche noi stessi, tra qualche anno. Il codice viene letto molte più volte di quelle che viene scritto: date i nomi giusti alle cose!"
   ]
  },
  {
   "cell_type": "markdown",
   "id": "14",
   "metadata": {},
   "source": [
    "## Variabili e tipi di dati\n",
    "\n",
    "Le variabili in Python sono come contenitori etichettati, ma più precisamente, sono nomi che puntano a oggetti in memoria. Ogni oggetto in Python ha un tipo, che determina quali operazioni possono essere eseguite su di esso e come viene memorizzato."
   ]
  },
  {
   "cell_type": "code",
   "execution_count": null,
   "id": "15",
   "metadata": {},
   "outputs": [],
   "source": [
    "nome = \"Mario\"\n",
    "eta = 17"
   ]
  },
  {
   "cell_type": "markdown",
   "id": "16",
   "metadata": {},
   "source": [
    "Qui, `nome` è una variabile che punta a un oggetto di tipo stringa, mentre `eta` punta a un oggetto di tipo intero. Ci immaginiamo di poter addizionare e moltiplicare i numeri, per esempio, ma non di poter fare lo stesso con le stringhe, oppure tra numeri e stringhe."
   ]
  },
  {
   "cell_type": "code",
   "execution_count": null,
   "id": "17",
   "metadata": {},
   "outputs": [],
   "source": [
    "# con il cancelletto, denotiamo una riga come un commento: diciamo al computer che non è codice che deve eseguire\n",
    "# se togli il commento dalla riga qui sotto, e provi ad eseguirla, la cella si bloccherà per un errore:\n",
    "# 2 + \"abcd\""
   ]
  },
  {
   "cell_type": "markdown",
   "id": "18",
   "metadata": {},
   "source": [
    "Un piccolo approfondimento. In Python, tutto è un oggetto. Un oggetto è un'entità che contiene dati (attributi) e codice (metodi). Il tipo di un oggetto determina quali attributi e metodi ha. Per verificare il tipo di un oggetto, possiamo usare la funzione `type()`:"
   ]
  },
  {
   "cell_type": "code",
   "execution_count": null,
   "id": "19",
   "metadata": {},
   "outputs": [],
   "source": [
    "print(type(nome))  # Stamperà: <class 'str'>\n",
    "print(type(eta))  # Stamperà: <class 'int'>"
   ]
  },
  {
   "attachments": {},
   "cell_type": "markdown",
   "id": "20",
   "metadata": {},
   "source": [
    "Prima di guardare che cosa fa questa cella, eccoci di fronte a un altro elemento della sintassi di tutti i linguaggi di programmazione: le funzioni.\n",
    "\n",
    "Come in matematica, le funzioni sono delle operazioni che prendono degli argomenti e restituiscono dei risultati. Abbiamo già visto la funzione `print`, che stampa il contenuto di una variabile. La funzione `type()` ci dice il tipo dell'oggetto che passiamo come argomento.\n",
    "\n",
    "Le funzioni possono accettare da zero a molti argomenti: dipende tutto da come sono definite. `print` stampa quello che volete; provate invece a usare `type(1, \"2\")` e vedere che cosa succede.\n",
    "\n",
    "Abbiamo detto che il tipo di un oggetto determina il suo comportamento, cioè le cose che possiamo farci. Accediamo alle funzioni \"specifiche\" di un oggetto (i *metodi*) così:\n",
    "\n",
    "`oggetto.`\n",
    "\n",
    "Dopo il `.`, se premiamo il tasto TAB sulla tastiera, compariranno le funzioni che possiamo usare. Ad esempio, per una stringa possiamo fare:"
   ]
  },
  {
   "cell_type": "code",
   "execution_count": null,
   "id": "21",
   "metadata": {},
   "outputs": [],
   "source": [
    "\"ciao Luca\".upper()"
   ]
  },
  {
   "cell_type": "markdown",
   "id": "22",
   "metadata": {},
   "source": [
    "Prova a vedere quali altri metodi ci sono per le stringhe, e capire che cosa fanno.\n",
    "\n",
    "Una cosa particolare è che i segni delle operazioni `+`, `-`... sono delle funzioni particolari. Per alcuni oggetti sono definite, per altre no. In altre parole: possiamo anche provare a usarle tra oggetti dello stesso tipo e vedere che cosa succede..."
   ]
  },
  {
   "cell_type": "code",
   "execution_count": null,
   "id": "23",
   "metadata": {},
   "outputs": [],
   "source": [
    "\"ciao\" + \"luca\""
   ]
  },
  {
   "cell_type": "markdown",
   "id": "24",
   "metadata": {},
   "source": [
    "Forse però è meglio mettere uno spazio.\n",
    "\n",
    "E possiamo anche farlo con le variabili:"
   ]
  },
  {
   "cell_type": "code",
   "execution_count": null,
   "id": "25",
   "metadata": {},
   "outputs": [],
   "source": [
    "\"ciao \" + nome"
   ]
  },
  {
   "cell_type": "markdown",
   "id": "26",
   "metadata": {},
   "source": [
    "## Interagire con il programma\n",
    "\n",
    "L'input dell'utente ci permette di rendere i nostri programmi interattivi:\n",
    "\n",
    "```python\n",
    "scelta_giocatore = input(\"Scegli tra sasso, carta o forbice: \")\n",
    "```"
   ]
  },
  {
   "cell_type": "markdown",
   "id": "27",
   "metadata": {},
   "source": [
    "Ad esempio, possiamo scrivere qualcosa di simile al nostro primo programma così:"
   ]
  },
  {
   "cell_type": "code",
   "execution_count": null,
   "id": "28",
   "metadata": {},
   "outputs": [],
   "source": [
    "nome = input(\"Inserisci il tuo nome: \")\n",
    "\"ciao \" + nome"
   ]
  },
  {
   "cell_type": "markdown",
   "id": "29",
   "metadata": {},
   "source": [
    "Siamo così entusiasti che anziché salutare vogliamo urlare. \"ciao Luca\" deve cioè diventare \"CIAO LUCA\". Come modifichi il codice di prima per farlo?"
   ]
  },
  {
   "cell_type": "markdown",
   "id": "30",
   "metadata": {},
   "source": [
    "## Programmare con i \"se\"\n",
    "\n",
    "Le istruzioni `if` ci permettono di creare logica condizionale nel nostro codice: in altre parole, verrà eseguito solo il codice se la condizione è vera. Ad esempio:"
   ]
  },
  {
   "cell_type": "code",
   "execution_count": null,
   "id": "31",
   "metadata": {},
   "outputs": [],
   "source": [
    "eta = 18\n",
    "\n",
    "if eta < 18:\n",
    "    print(\"Non puoi entrare.\")\n",
    "else:\n",
    "    print(\"Prego, entra pure!\")"
   ]
  },
  {
   "cell_type": "markdown",
   "id": "32",
   "metadata": {},
   "source": [
    "Guardiamo meglio la struttura:\n",
    "\n",
    "```\n",
    "if eta < 18:\n",
    "    print(...)\n",
    "```\n",
    "\n",
    "* Gli spazi non sono importanti (potreste scrivere anche `eta<18`). È importante però che ci siano i due punti alla fine.\n",
    "* Il *corpo* dell'if deve essere *indentato*: basta premere il tasto TAB per indentare. Altrimenti, mettete quattro spazi. **Attenzione**: Python è molto preciso su queste cose: devono esserci quattro spazi, non uno di più né uno di meno.\n",
    "\n",
    "La stessa regola vale per gli else.\n",
    "\n",
    "Se, invece, vogliamo verificare più di una condizione, possiamo usare `elif` (forma \"contratta\" di *else if*)."
   ]
  },
  {
   "cell_type": "code",
   "execution_count": null,
   "id": "33",
   "metadata": {},
   "outputs": [],
   "source": [
    "scelta_giocatore = \"carta\"\n",
    "\n",
    "if scelta_giocatore == \"sasso\":\n",
    "    print(\"Hai scelto sasso!\")\n",
    "elif scelta_giocatore == \"carta\":\n",
    "    print(\"Hai scelto carta!\")\n",
    "elif scelta_giocatore == \"forbice\":\n",
    "    print(\"Hai scelto forbice!\")\n",
    "else:\n",
    "    print(\"Scelta non valida!\")"
   ]
  },
  {
   "cell_type": "markdown",
   "id": "34",
   "metadata": {},
   "source": [
    "Ora tocca a te. Usa `input` e `if-else` per scrivere un rudimentale programma per giocare a sasso forbice."
   ]
  },
  {
   "cell_type": "code",
   "execution_count": null,
   "id": "35",
   "metadata": {},
   "outputs": [],
   "source": [
    "scelta_giocatore = ...\n",
    "\n",
    "if scelta_giocatore == \"sasso\":\n",
    "    print(\"Hai scelto sasso!\")\n",
    "elif scelta_giocatore == \"carta\":\n",
    "    print(\"Hai scelto carta!\")\n",
    "elif scelta_giocatore == \"forbice\":\n",
    "    print(\"Hai scelto forbice!\")\n",
    "else:\n",
    "    print(\"Scelta non valida!\")"
   ]
  },
  {
   "cell_type": "markdown",
   "id": "36",
   "metadata": {},
   "source": [
    "## Disegnare le proprie funzioni\n",
    "\n",
    "Eccoci all'ultimo punto di questa introduzione: le funzioni. Come programmatori, infatti, non siamo solo limitati a dover usare le funzioni costruite nel linguaggio: possiamo scrivere le nostre. Il beneficio di usare le funzioni è che possiamo riorganizzare il codice, evitando di copiare e incollare in giro pezzi che usiamo di frequente, e modificarlo più facilmente. Soprattutto, poi, è più facile far capire che cosa fa, il nostro codice.\n",
    "\n",
    "Una funzione si definisce con, appunto, la parola chiave `def`:"
   ]
  },
  {
   "cell_type": "code",
   "execution_count": null,
   "id": "37",
   "metadata": {},
   "outputs": [],
   "source": [
    "def saluta(nome):\n",
    "    return f\"Ciao, {nome}!\"\n",
    "\n",
    "messaggio = saluta(\"Alice\")\n",
    "print(messaggio)  # Stamperà: Ciao, Alice!"
   ]
  },
  {
   "cell_type": "markdown",
   "id": "38",
   "metadata": {},
   "source": [
    "`saluta` è il nome della funzione. Tra parentesi, ci sono i *nomi* degli argomenti che la funzione accetterà. `return` definisce l'output che la funzione restituirà.\n",
    "\n",
    "Come per gli `if`, è importante che dopo aver chiuso le parentesi ci siano i `:`, e che il corpo della funzione sia indentato."
   ]
  },
  {
   "cell_type": "markdown",
   "id": "39",
   "metadata": {},
   "source": [
    "## L'ultima prova!\n",
    "\n",
    "Adesso che sai anche come scrivere una funzione, è il momento di scriverne una per giocare a sasso, carta e forbice. Qui sotto c'è un piccolo \"template\" che devi riempire: scrivi il codice al posto dei puntini.\n",
    "\n",
    "Qualche dritta:\n",
    "\n",
    "1. `import` è un comando che ci mette a disposizione funzioni che non sono quelle \"predefinite\". In questo caso, importiamo il modulo `random` per la generazione di numeri casuali, etc.\n",
    "2. Definiamo una funzione `gioca`: non servono argomenti. Mettiamo i due punti e andiamo a capo; il testo è indentato di 4 spazi.\n",
    "3. `scelte` sono tutte le scelte possibili. Con `random.choice(scelte)` stiamo scegliendo a caso una delle tre, e la assegniamo alla variabile `scelta_computer`.\n",
    "4. `scelta_giocatore` è la variabile che rappresenta la scelta del giocatore. Usa `input` per ottenerla.\n",
    "5. `if scelta giocatore not in scelte`: è una cosa che non abbiamo ancora visto, ma non è molto importante. Basta sapere che interromperà il programma se `scelta_giocatore` non è sasso, carta o forbice.\n",
    "6. Adesso viene la parte impegnativa: scrivere la logica dell'`if statement`. Ricordiamo le regole di sasso, carta, forbice:\n",
    "    1. Se le scelte sono uguali, è pareggio.\n",
    "    2. Sasso batte forbice.\n",
    "    3. Forbice batte carta.\n",
    "    4. Carta batte sasso (anche se nessuno ha mai capito davvero come)."
   ]
  },
  {
   "cell_type": "code",
   "execution_count": null,
   "id": "40",
   "metadata": {},
   "outputs": [],
   "source": [
    "import random\n",
    "\n",
    "\n",
    "def gioca():\n",
    "    scelte = [\"sasso\", \"carta\", \"forbice\"]\n",
    "    scelta_computer = random.choice(scelte)\n",
    "\n",
    "    scelta_giocatore = ...\n",
    "\n",
    "    if scelta_giocatore not in scelte:\n",
    "        raise ValueError(\"Puoi solo giocare sasso, carta o forbice!\")\n",
    "    \n",
    "    if ...:\n",
    "        print(\"Pareggio!\")\n",
    "    elif ...:"
   ]
  },
  {
   "cell_type": "markdown",
   "id": "41",
   "metadata": {},
   "source": [
    "Se hai già finito, puoi fare un'altra cosa: estrai la logica dell'*if statement* in un'altra funzione, che chiamerai `determina_vincitore`. Questa funzione accetta due parametri, `scelta_giocatore` e `scelta_computer`, e viene chiamata all'interno della funzione `gioca`. Così:"
   ]
  },
  {
   "cell_type": "code",
   "execution_count": null,
   "id": "42",
   "metadata": {},
   "outputs": [],
   "source": [
    "def determina_vincitore(scelta_giocatore, scelta_computer):\n",
    "    ...\n",
    "\n",
    "\n",
    "def gioca():\n",
    "    scelte = [\"sasso\", \"carta\", \"forbice\"]\n",
    "    scelta_computer = random.choice(scelte)\n",
    "\n",
    "    scelta_giocatore = ...\n",
    "\n",
    "    if scelta_giocatore not in scelte:\n",
    "        raise ValueError(\"Puoi solo giocare sasso, carta o forbice!\")\n",
    "    \n",
    "    determina_vincitore(scelta_giocatore, scelta_computer)"
   ]
  }
 ],
 "metadata": {
  "kernelspec": {
   "display_name": "Python 3 (ipykernel)",
   "language": "python",
   "name": "python3"
  },
  "language_info": {
   "codemirror_mode": {
    "name": "ipython",
    "version": 3
   },
   "file_extension": ".py",
   "mimetype": "text/x-python",
   "name": "python",
   "nbconvert_exporter": "python",
   "pygments_lexer": "ipython3",
   "version": "3.10.14"
  }
 },
 "nbformat": 4,
 "nbformat_minor": 5
}
