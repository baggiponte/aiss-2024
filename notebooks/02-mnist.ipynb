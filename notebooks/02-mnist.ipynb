{
 "cells": [
  {
   "cell_type": "code",
   "execution_count": 1,
   "id": "ccbdd527-fb72-403a-bef3-44bcfdc49c39",
   "metadata": {},
   "outputs": [],
   "source": [
    "from ice.utils import load_mnist, display\n",
    "\n",
    "train, test = load_mnist(path=\"../data\")\n",
    "\n",
    "display(train)"
   ]
  },
  {
   "cell_type": "code",
   "execution_count": 2,
   "id": "6112782a-7dcf-4043-b2eb-17b3b0e28a0f",
   "metadata": {},
   "outputs": [],
   "source": [
    "import torch.nn as nn\n",
    "\n",
    "class MLP(nn.Module):\n",
    "\n",
    "    def __init__(self):\n",
    "        super().__init__()\n",
    "        self.flatten = nn.Flatten()\n",
    "        self.stack = nn.Sequential(\n",
    "            nn.Linear(28 * 28, 512),\n",
    "            nn.ReLU(),\n",
    "            nn.Linear(512, 256),\n",
    "            nn.ReLU(),\n",
    "            nn.Linear(256, 128),\n",
    "            nn.ReLU(),\n",
    "            nn.Linear(128, 10)\n",
    "        )\n",
    "\n",
    "    def forward(self, x):\n",
    "        x_flat = self.flatten(x)\n",
    "        logits = self.stack(x_flat)\n",
    "        return logits\n",
    "\n",
    "model = MLP()"
   ]
  },
  {
   "cell_type": "code",
   "execution_count": 3,
   "id": "b286d8e6-9342-49d0-990a-844ef57731e3",
   "metadata": {},
   "outputs": [
    {
     "data": {
      "text/plain": [
       "TrainerConfig(learning_rate=0.01, epochs=10, batch_size=16, momentum=0, weight_decay=0, dampening=0, nesterov=False, split_size=0.7, seed=42, device='auto')"
      ]
     },
     "execution_count": 3,
     "metadata": {},
     "output_type": "execute_result"
    }
   ],
   "source": [
    "from ice.trainer import TrainerConfig, Trainer\n",
    "\n",
    "config = TrainerConfig(\n",
    "    batch_size=16,\n",
    "    seed=42\n",
    ")\n",
    "config"
   ]
  },
  {
   "cell_type": "code",
   "execution_count": 4,
   "id": "e0e3f1c4-070d-4c34-8192-c0dad1e9a5dd",
   "metadata": {},
   "outputs": [
    {
     "data": {
      "text/plain": [
       "Trainer(\n",
       "model=MLP(\n",
       "  (flatten): Flatten(start_dim=1, end_dim=-1)\n",
       "  (stack): Sequential(\n",
       "    (0): Linear(in_features=784, out_features=512, bias=True)\n",
       "    (1): ReLU()\n",
       "    (2): Linear(in_features=512, out_features=256, bias=True)\n",
       "    (3): ReLU()\n",
       "    (4): Linear(in_features=256, out_features=128, bias=True)\n",
       "    (5): ReLU()\n",
       "    (6): Linear(in_features=128, out_features=10, bias=True)\n",
       "  )\n",
       "),\n",
       "config=TrainerConfig(learning_rate=0.01, epochs=10, batch_size=16, momentum=0, weight_decay=0, dampening=0, nesterov=False, split_size=0.7, seed=42, device='auto'),\n",
       "Optimizer=SGD (\n",
       "Parameter Group 0\n",
       "    dampening: 0\n",
       "    differentiable: False\n",
       "    foreach: None\n",
       "    fused: None\n",
       "    lr: 0.01\n",
       "    maximize: False\n",
       "    momentum: 0\n",
       "    nesterov: False\n",
       "    weight_decay: 0\n",
       "))"
      ]
     },
     "execution_count": 4,
     "metadata": {},
     "output_type": "execute_result"
    }
   ],
   "source": [
    "trainer = Trainer(model=model, config=config, dataset=train)\n",
    "trainer"
   ]
  },
  {
   "cell_type": "code",
   "execution_count": null,
   "id": "e5420bf5-12aa-4ac9-893c-6a85d14172f3",
   "metadata": {},
   "outputs": [],
   "source": [
    "trainer.fit()"
   ]
  },
  {
   "cell_type": "code",
   "execution_count": null,
   "id": "5f409cd5-e99c-47ca-8760-c2b02d019311",
   "metadata": {},
   "outputs": [],
   "source": []
  }
 ],
 "metadata": {
  "kernelspec": {
   "display_name": "Python 3 (ipykernel)",
   "language": "python",
   "name": "python3"
  },
  "language_info": {
   "codemirror_mode": {
    "name": "ipython",
    "version": 3
   },
   "file_extension": ".py",
   "mimetype": "text/x-python",
   "name": "python",
   "nbconvert_exporter": "python",
   "pygments_lexer": "ipython3",
   "version": "3.11.9"
  }
 },
 "nbformat": 4,
 "nbformat_minor": 5
}
