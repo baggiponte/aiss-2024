{
 "cells": [
  {
   "cell_type": "markdown",
   "id": "0059c072-2042-4ffa-967a-aa60259ebdd4",
   "metadata": {},
   "source": [
    "# Insegnare a un computer a riconoscere immagini"
   ]
  },
  {
   "cell_type": "markdown",
   "id": "d82f1e93-a348-46fc-ac85-16e294ee60e3",
   "metadata": {},
   "source": [
    "## Ma prima di tutto...\n",
    "\n",
    "Esegui la cella qui sotto, senza preoccuparti più di tanto di che cosa succede: serve solo a rendere disponibile del codice che abbiamo scritto."
   ]
  },
  {
   "cell_type": "code",
   "execution_count": 1,
   "id": "c4557bc5-a569-4e42-999d-f295a46bdb42",
   "metadata": {},
   "outputs": [],
   "source": [
    "try:\n",
    "    import ice\n",
    "except ModuleNotFoundError:\n",
    "    import sys\n",
    "    if \"google.colab\" in sys.modules:\n",
    "        !python -m pip install -qqq --upgrade -- uv && python -m uv pip install --system --quiet -- https://github.com/baggiponte/aiss-2024.git"
   ]
  },
  {
   "cell_type": "markdown",
   "id": "d5df5c19-cf82-42b3-a6bc-1bd301aa59a7",
   "metadata": {},
   "source": [
    "# MNIST: un dataset fatto di cifre scritte a mano"
   ]
  },
  {
   "cell_type": "markdown",
   "id": "c007b774-296a-4428-b0dc-83ab152706c5",
   "metadata": {},
   "source": [
    "Cominciamo con uno dei dataset più famosi della storia delle reti neurali. [MNIST](https://en.wikipedia.org/wiki/MNIST_database) è un dataset di settantamila cifre da 0 a 9 scritte a mano e digitalizzate in un formato da 28x28 pixel, in bianco e nero (scala di grigio). Viene usato in un articolo piuttosto famoso, firmato da diversi \"padri\" del deep learning. Per chi fosse interessato, [qui](https://www.youtube.com/watch?v=mTtDfKgLm54&list=PLLHTzKZzVU9e6xUfG10TkTWApKSZCzuBI) c'è la prima lezione di un corso di Deep Learning della New York University: forse non è il caso di seguirlo tutto, ma se ve la cavate con l'inglese potete sentire Yann LeCunn, uno degli autori del paper di MNIST e attuale Chief AI Scientist di Meta (cioè il capo di tutta la parte di AI di Facebook, Instagram, ecc), raccontare la storia del deep learning.\n",
    "\n",
    "Useremo anche noi questo dataset per allenare la nostra prima rete neurale. Fun fact: il tasso d'errore più basso raggiunto per MNIST è circa dello 0.2/0.3%. Quanto riusciremo ad avvicinarci?\n",
    "\n",
    "Prima di costruire, esegui il contenuto della cella seguente e usa lo slider per esplorare le fotografie. Potrebbero esserci delle foto etichettate male: alcune fonti riportano che siano almeno 4 (che può essere il motivo per cui, di fatto, è impossibile ottenere il 100% di accuratezza, a meno di correzioni)."
   ]
  },
  {
   "cell_type": "code",
   "execution_count": 2,
   "id": "ccbdd527-fb72-403a-bef3-44bcfdc49c39",
   "metadata": {},
   "outputs": [
    {
     "data": {
      "application/vnd.jupyter.widget-view+json": {
       "model_id": "149b6e88822c4f2896f0cdea1894040a",
       "version_major": 2,
       "version_minor": 0
      },
      "text/plain": [
       "interactive(children=(IntSlider(value=30000, description='index', max=60000, min=1), Output()), _dom_classes=(…"
      ]
     },
     "metadata": {},
     "output_type": "display_data"
    }
   ],
   "source": [
    "from ice.utils import load_mnist, display\n",
    "\n",
    "train, test = load_mnist(path=\"../data\")\n",
    "\n",
    "display(train)"
   ]
  },
  {
   "cell_type": "markdown",
   "id": "3200c5e0-a42d-4f9b-833d-3a924e024423",
   "metadata": {},
   "source": [
    "L'immagine che vediamo è semplicemente una matrice di numeri: possiamo vederlo così:"
   ]
  },
  {
   "cell_type": "code",
   "execution_count": 3,
   "id": "13039382-7785-4c76-8992-5ec676a2799a",
   "metadata": {},
   "outputs": [
    {
     "data": {
      "text/plain": [
       "Image([[[  0,   0,   0,   0,   0,   0,   0,   0,   0,   0,   0,   0,   0,   0,\n",
       "           0,   0,   0,   0,   0,   0,   0,   0,   0,   0,   0,   0,   0,   0],\n",
       "        [  0,   0,   0,   0,   0,   0,   0,   0,   0,   0,   0,   0,   0,   0,\n",
       "           0,   0,   0,   0,   0,   0,   0,   0,   0,   0,   0,   0,   0,   0],\n",
       "        [  0,   0,   0,   0,   0,   0,   0,   0,   0,   0,   0,   0,   0,   0,\n",
       "           0,   0,   0,   0,   0,   0,   0,   0,   0,   0,   0,   0,   0,   0],\n",
       "        [  0,   0,   0,   0,   0,   0,   0,   0,   0,   0,   0,   0,   0,   0,\n",
       "           0,   0,   0,   0,   0,   0,   0,   0,   0,   0,   0,   0,   0,   0],\n",
       "        [  0,   0,   0,   0,   0,   0,   0,   0,   0,   0,   0,   0,   0,   0,\n",
       "           0,   0,   0,   0,   0,   0,   0,   0,   0,   0,   0,   0,   0,   0],\n",
       "        [  0,   0,   0,   0,   0,   0,   0,   0,   0,   0,   0,   0,   3,  18,\n",
       "          18,  18, 126, 136, 175,  26, 166, 255, 247, 127,   0,   0,   0,   0],\n",
       "        [  0,   0,   0,   0,   0,   0,   0,   0,  30,  36,  94, 154, 170, 253,\n",
       "         253, 253, 253, 253, 225, 172, 253, 242, 195,  64,   0,   0,   0,   0],\n",
       "        [  0,   0,   0,   0,   0,   0,   0,  49, 238, 253, 253, 253, 253, 253,\n",
       "         253, 253, 253, 251,  93,  82,  82,  56,  39,   0,   0,   0,   0,   0],\n",
       "        [  0,   0,   0,   0,   0,   0,   0,  18, 219, 253, 253, 253, 253, 253,\n",
       "         198, 182, 247, 241,   0,   0,   0,   0,   0,   0,   0,   0,   0,   0],\n",
       "        [  0,   0,   0,   0,   0,   0,   0,   0,  80, 156, 107, 253, 253, 205,\n",
       "          11,   0,  43, 154,   0,   0,   0,   0,   0,   0,   0,   0,   0,   0],\n",
       "        [  0,   0,   0,   0,   0,   0,   0,   0,   0,  14,   1, 154, 253,  90,\n",
       "           0,   0,   0,   0,   0,   0,   0,   0,   0,   0,   0,   0,   0,   0],\n",
       "        [  0,   0,   0,   0,   0,   0,   0,   0,   0,   0,   0, 139, 253, 190,\n",
       "           2,   0,   0,   0,   0,   0,   0,   0,   0,   0,   0,   0,   0,   0],\n",
       "        [  0,   0,   0,   0,   0,   0,   0,   0,   0,   0,   0,  11, 190, 253,\n",
       "          70,   0,   0,   0,   0,   0,   0,   0,   0,   0,   0,   0,   0,   0],\n",
       "        [  0,   0,   0,   0,   0,   0,   0,   0,   0,   0,   0,   0,  35, 241,\n",
       "         225, 160, 108,   1,   0,   0,   0,   0,   0,   0,   0,   0,   0,   0],\n",
       "        [  0,   0,   0,   0,   0,   0,   0,   0,   0,   0,   0,   0,   0,  81,\n",
       "         240, 253, 253, 119,  25,   0,   0,   0,   0,   0,   0,   0,   0,   0],\n",
       "        [  0,   0,   0,   0,   0,   0,   0,   0,   0,   0,   0,   0,   0,   0,\n",
       "          45, 186, 253, 253, 150,  27,   0,   0,   0,   0,   0,   0,   0,   0],\n",
       "        [  0,   0,   0,   0,   0,   0,   0,   0,   0,   0,   0,   0,   0,   0,\n",
       "           0,  16,  93, 252, 253, 187,   0,   0,   0,   0,   0,   0,   0,   0],\n",
       "        [  0,   0,   0,   0,   0,   0,   0,   0,   0,   0,   0,   0,   0,   0,\n",
       "           0,   0,   0, 249, 253, 249,  64,   0,   0,   0,   0,   0,   0,   0],\n",
       "        [  0,   0,   0,   0,   0,   0,   0,   0,   0,   0,   0,   0,   0,   0,\n",
       "          46, 130, 183, 253, 253, 207,   2,   0,   0,   0,   0,   0,   0,   0],\n",
       "        [  0,   0,   0,   0,   0,   0,   0,   0,   0,   0,   0,   0,  39, 148,\n",
       "         229, 253, 253, 253, 250, 182,   0,   0,   0,   0,   0,   0,   0,   0],\n",
       "        [  0,   0,   0,   0,   0,   0,   0,   0,   0,   0,  24, 114, 221, 253,\n",
       "         253, 253, 253, 201,  78,   0,   0,   0,   0,   0,   0,   0,   0,   0],\n",
       "        [  0,   0,   0,   0,   0,   0,   0,   0,  23,  66, 213, 253, 253, 253,\n",
       "         253, 198,  81,   2,   0,   0,   0,   0,   0,   0,   0,   0,   0,   0],\n",
       "        [  0,   0,   0,   0,   0,   0,  18, 171, 219, 253, 253, 253, 253, 195,\n",
       "          80,   9,   0,   0,   0,   0,   0,   0,   0,   0,   0,   0,   0,   0],\n",
       "        [  0,   0,   0,   0,  55, 172, 226, 253, 253, 253, 253, 244, 133,  11,\n",
       "           0,   0,   0,   0,   0,   0,   0,   0,   0,   0,   0,   0,   0,   0],\n",
       "        [  0,   0,   0,   0, 136, 253, 253, 253, 212, 135, 132,  16,   0,   0,\n",
       "           0,   0,   0,   0,   0,   0,   0,   0,   0,   0,   0,   0,   0,   0],\n",
       "        [  0,   0,   0,   0,   0,   0,   0,   0,   0,   0,   0,   0,   0,   0,\n",
       "           0,   0,   0,   0,   0,   0,   0,   0,   0,   0,   0,   0,   0,   0],\n",
       "        [  0,   0,   0,   0,   0,   0,   0,   0,   0,   0,   0,   0,   0,   0,\n",
       "           0,   0,   0,   0,   0,   0,   0,   0,   0,   0,   0,   0,   0,   0],\n",
       "        [  0,   0,   0,   0,   0,   0,   0,   0,   0,   0,   0,   0,   0,   0,\n",
       "           0,   0,   0,   0,   0,   0,   0,   0,   0,   0,   0,   0,   0,   0]]],\n",
       "      dtype=torch.uint8, )"
      ]
     },
     "execution_count": 3,
     "metadata": {},
     "output_type": "execute_result"
    }
   ],
   "source": [
    "# questa è un po' di magia nera, ma non è niente di difficile\n",
    "# nota che `[i]` viene usato per accedere all'elemento i-esimo di una lista/contenitore\n",
    "image, label = train[0]\n",
    "\n",
    "image"
   ]
  },
  {
   "cell_type": "markdown",
   "id": "1f8b093f-4b97-41c4-8fa4-5f34241ec02d",
   "metadata": {},
   "source": [
    "Vista così la forma non ha molto senso (solo perché la matrice non è allineata in 28x28), ma si nota molto bene di che cosa è fatta: una grossa matrice con valori che vanno da 0 (nero) a 255 (bianco).\n",
    "\n",
    "Già a occhio nudo, comunque, possiamo vedere dei pattern: il processo di allenamento di una rete neurale è una metodo che abbiamo affinato per far sì che un computer impari a riconoscerli e sfruttarli per associare un input a un determinato output. Vediamo come!"
   ]
  },
  {
   "cell_type": "markdown",
   "id": "1a2501cf-2aed-48e9-835f-e6df8b43c6c4",
   "metadata": {},
   "source": [
    "# La struttura di una rete neurale"
   ]
  },
  {
   "cell_type": "markdown",
   "id": "54d200ef-1db6-4089-97c8-b02aac28734b",
   "metadata": {},
   "source": [
    "Prima di mettere mano alla tastiera, però, proviamo a spiegare un po' come funzionano le reti neurali."
   ]
  },
  {
   "cell_type": "markdown",
   "id": "5158dd9e-f2d0-4529-9fd3-7e328ef8e61c",
   "metadata": {
    "jp-MarkdownHeadingCollapsed": true
   },
   "source": [
    "## Come funzionano le reti neurali?"
   ]
  },
  {
   "cell_type": "markdown",
   "id": "ffa108d0-c03b-4a6c-8102-a2a9bc6394b1",
   "metadata": {},
   "source": [
    "Non scendiamo nel dettaglio di come funziona una rete neurale: non perché sia difficile, ma perché sono necessari alcuni concetti. In linea di massima, nel caso di un problema di classificazione come il nostro, una rete neurale fa quello che si vede in [questo spezzone](https://youtu.be/mTtDfKgLm54?si=STy0SyJe17i73_Ag&t=2809) della lezione che abbiamo condiviso sopra.\n",
    "\n",
    "Si comincia da dei punti nello spazio che non sono *linearmente separabili*, cioè non si possono separare con una o più linee rette:\n",
    "\n",
    "<div style=\"text-align: center;\">\n",
    "    <img src=\"../public/01-blob.png\" style=\"width: 300px; height: auto;\">\n",
    "</div>\n",
    "\n",
    "L'algoritmo \"apprende\" quali sono le trasformazioni dello spazio (distorsioni, traslazioni, e simili) per isolare sottoinsiemi nei dati, finché non diventano separabili con una linea."
   ]
  },
  {
   "cell_type": "code",
   "execution_count": 4,
   "id": "482102aa-a2f5-4eee-a75e-1d30f7bd896e",
   "metadata": {},
   "outputs": [
    {
     "data": {
      "text/html": [
       "<video src=\"../public/02-nn_training.mp4\" controls  width=\"500\" >\n",
       "      Your browser does not support the <code>video</code> element.\n",
       "    </video>"
      ],
      "text/plain": [
       "<IPython.core.display.Video object>"
      ]
     },
     "execution_count": 4,
     "metadata": {},
     "output_type": "execute_result"
    }
   ],
   "source": [
    "from IPython.display import Video\n",
    "\n",
    "Video(\"../public/02-nn_training.mp4\", width=500)"
   ]
  },
  {
   "cell_type": "markdown",
   "id": "c22d8563-bf01-4f2c-9792-759b361aeef4",
   "metadata": {},
   "source": [
    "In altre parole, semplificando un po', è come se il modello dovesse imparare a tracciare delle linee storte:\n",
    "\n",
    "<div style=\"text-align: center;\">\n",
    "    <img src=\"../public/03-blob_separated.png\" style=\"width: 300px; height: auto;\">\n",
    "</div>\n",
    "\n",
    "In che senso \"impara\"? In parole povere, comincia con delle trasformazioni a caso, genera una predizione, giusta o sbagliata, e riceve un \"feedback\" a ogni iterazione su come aggiustare il tiro. A un certo punto, quando l'errore è accettabile, interrompiamo l'allenamento.\n",
    "\n",
    "Se vi ricordate l'equazione della retta: \n",
    "\n",
    "$y = mx + q$\n",
    "\n",
    "Ecco, una rete neurale non ha solo un parametro $m$ e $q$, ma ne ha solitamente da milioni a miliardi. L'obiettivo dell'allenamento è, partendo da $x$, trovare dei parametri (detti anche pesi) abbastanza precisi da trovare la $y$ con un margine d'errore accettabile. Come funziona \"l'aggiustamento\"? È una procedura *iterativa*, cioè ripetuta:\n",
    "\n",
    "1. usando i pesi attuali si genera una predizione;\n",
    "2. si misura l'errore della predizione;\n",
    "3. infine si usa l'errore per modificare leggermente i pesi;\n",
    "\n",
    "E via daccapo dal punto 1. Per chi l'avesse visto, la procedura più semplice - e quella che useremo noi - è simile al metodo di Newton. In altre parole, si usano le derivate.\n",
    "\n",
    "Ci sono molte introduzioni ben fatte (praticamente solo in inglese). Qui una carrellata:\n",
    "\n",
    "1. [MLU Explain](https://mlu-explain.github.io/neural-networks/). Spiegazione completa e interattiva.\n",
    "2. [3Blue1Brow](https://www.youtube.com/watch?v=aircAruvnKk&list=PLZHQObOWTQDNU6R1_67000Dx_ZCJB-3pi). Sicuramente più densa ma non per questo difficile da capire. Tenetelo come riferimento per vari spiegoni di matematica (per il quinto anno ma anche per l'università): non solo spiega bene, ma fa anche capire il significato e come interpretare certi concetti di matematica, probabilità e statistica.\n",
    "3. Con un po' più di dettaglio [introduzione](https://www.youtube.com/watch?v=UOvPeC8WOt8) e poi [parte 2](https://www.youtube.com/watch?v=-at7SLoVK_I)\n",
    "\n",
    "Lasciamoci alle spalle la teoria, e andiamo alla pratica."
   ]
  },
  {
   "cell_type": "markdown",
   "id": "e926ca01-2fd2-49c1-9640-3949462dd77a",
   "metadata": {},
   "source": [
    "## Disegnare una rete neurale"
   ]
  },
  {
   "cell_type": "markdown",
   "id": "0097e864-8a5d-4a24-a9ac-7e24331edf7c",
   "metadata": {},
   "source": [
    "Per quanto semplice, la spiegazione delle reti neurali deve essere già stata un po' densa. Per fortuna, in Python non dobbiamo occuparci noi di programare niente di tutto questo! `pytorch` è una libreria (o *framework*) che ci permette di disegnare e allenare reti neurali rapidamente.\n",
    "\n",
    "Basta una decina di righe per definirne una:"
   ]
  },
  {
   "cell_type": "code",
   "execution_count": 5,
   "id": "650e6f82-352b-4560-bbc2-65693d5cc9db",
   "metadata": {},
   "outputs": [],
   "source": [
    "import torch.nn as nn\n",
    "\n",
    "class NeuralNetwork(nn.Module):\n",
    "\n",
    "    def __init__(self):\n",
    "        super().__init__()\n",
    "        self.flatten = nn.Flatten()\n",
    "        self.layer = nn.Linear(28 * 28, 10)\n",
    "\n",
    "    def forward(self, x):\n",
    "        x_flat = self.flatten(x)\n",
    "        logits = self.layer(x_flat)\n",
    "        return logits\n",
    "\n",
    "model = NeuralNetwork()"
   ]
  },
  {
   "cell_type": "markdown",
   "id": "f81cc9fd-f6e9-478d-83b0-c8df2a2c3fcd",
   "metadata": {},
   "source": [
    "Ci sono comunque un po' di cose da spacchettare, quindi andiamo con ordine.\n",
    "\n",
    "Innanzitutto: che cosa c'è scritto? Stiamo definendo una *classe*, cioè creiamo un particolare tipo di oggetto. Questo oggetto *eredita* da `nn.Module`. Un oggetto - lo abbiamo visto nell'introduzione - è un contenitore di \"attributi\" e \"comportamenti\". Per fare un esempio: un oggetto `Cane` potrebbe avere come \"attributi\" il suo nome, il colore, il cibo preferito... E come \"comportamenti\" (detti anche *metodi*) abbaiare, rincorrere, recuperare un bastone. Non ci serve sapere molto altro degli oggetti, né come crearli, salvo tenere presente che per costurire una rete funzionante dobbiamo definire due cose:\n",
    "\n",
    "1. La struttura della nostra rete, che facciamo nel metodo `__init__`\n",
    "2. Come generare una previsione, con il metodo `forward`.\n",
    "\n",
    "In altre parole, tutto quello su cui dobbiamo concentrarci è:\n",
    "\n",
    "```python\n",
    "        self.flatten = nn.Flatten()\n",
    "        self.layer = nn.Linear(28 * 28, 10)\n",
    "```\n",
    "\n",
    "Questa è la struttura della nostra rete (gli \"strati\" del \"panino\"). Sono degli attributi che abbiamo chiamato `flatten` e `layer`.\n",
    "\n",
    "1. Il primo \"strato\" (in inglese, *layer*) che appiattisce (*flatten*) la fotografia da una matrice 28*28 a un'unico vettore di lunghezza 784. Non dobbiamo modificarlo.\n",
    "2. Il secondo e ultimo strato è un oggetto particolare, `nn.Linear()`. Di fatto, è un modo compatto per scrivere i coefficienti del modello, un po' come se fosse `$y = mx + q$`. `nn.Linear(28 * 28, 10)` prende tutti i nostri pixel di input e li \"rimappa\" direttamente a 10 valori. In altre parole, è come se disegnassimo una retta che prende i nostri pixel e cerca di restituire un vettore che ci dice qual è il numero più probabile.\n",
    "3. Nel `forward` step vediamo proprio come viene usata la rete neurale per generare le predizioni (dette *logits*). È un'altro pezzo che non dobbiamo modificare.\n",
    "\n",
    "Possiamo vedere direttamente come è fatto questo oggetto:"
   ]
  },
  {
   "cell_type": "code",
   "execution_count": 6,
   "id": "5773c54f-1ff0-468d-9b19-4d543ad0cc54",
   "metadata": {},
   "outputs": [
    {
     "data": {
      "text/plain": [
       "NeuralNetwork(\n",
       "  (flatten): Flatten(start_dim=1, end_dim=-1)\n",
       "  (layer): Linear(in_features=784, out_features=10, bias=True)\n",
       ")"
      ]
     },
     "execution_count": 6,
     "metadata": {},
     "output_type": "execute_result"
    }
   ],
   "source": [
    "model"
   ]
  },
  {
   "cell_type": "markdown",
   "id": "a37202d1-a489-4233-824a-cdc91ef63f30",
   "metadata": {},
   "source": [
    "Questa rete neurale, però, non funzionerà molto bene. È molto semplice e le manca un elemento importante: la possibilità di imparare trasformazioni *non* lineari. Per questo aggiungiamo al panino uno strato \"speciale\":"
   ]
  },
  {
   "cell_type": "code",
   "execution_count": 7,
   "id": "98aa68d1-19a7-468e-ac69-e5ce8fe713f8",
   "metadata": {},
   "outputs": [],
   "source": [
    "class MLP(nn.Module):\n",
    "\n",
    "    def __init__(self):\n",
    "        super().__init__()\n",
    "        self.flatten = nn.Flatten(start_dim=1)\n",
    "        self.stack = nn.Sequential(\n",
    "            nn.Linear(28 * 28, 128),\n",
    "            nn.ReLU(),\n",
    "            nn.Linear(128, 10),\n",
    "        )\n",
    "\n",
    "    def forward(self, x):\n",
    "        x_flat = self.flatten(x)\n",
    "        logits = self.stack(x_flat)\n",
    "        return logits\n",
    "\n",
    "model = MLP()"
   ]
  },
  {
   "cell_type": "markdown",
   "id": "a845147a-a995-4fdb-a3da-55db377351ef",
   "metadata": {},
   "source": [
    "Per comodità, usiamo `nn.Sequential` per raggruppare i layer, ma di per sé non fa niente di speciale. Ora la rete ha tre strati:\n",
    "\n",
    "1. Una mappatura da 784 dimensioni in input a una \"intermedia\" di 128 elementi - i cosiddetti \"neuroni\".\n",
    "2. Uno strato intermedio che trasforma lo spazio in modo non lineare.\n",
    "3. L'ultimo strato, dello stesso tipo del primo, che mappa da 128 a 10 neuroni - il nostro output."
   ]
  },
  {
   "cell_type": "code",
   "execution_count": 8,
   "id": "cbb0d84b-6e06-4550-bd2c-70d88bb22755",
   "metadata": {},
   "outputs": [
    {
     "data": {
      "text/plain": [
       "MLP(\n",
       "  (flatten): Flatten(start_dim=1, end_dim=-1)\n",
       "  (stack): Sequential(\n",
       "    (0): Linear(in_features=784, out_features=128, bias=True)\n",
       "    (1): ReLU()\n",
       "    (2): Linear(in_features=128, out_features=10, bias=True)\n",
       "  )\n",
       ")"
      ]
     },
     "execution_count": 8,
     "metadata": {},
     "output_type": "execute_result"
    }
   ],
   "source": [
    "model"
   ]
  },
  {
   "cell_type": "markdown",
   "id": "3cb1ab3d-fc64-4cdc-ad97-8a6fdd6b0366",
   "metadata": {},
   "source": [
    "# Allenare un modello\n",
    "\n",
    "Eccoci nella parte complicata - per il computer, però. Abbiamo scritto per te due oggetti, un `TrainerConfig` e un `Trainer`, per semplificarti il lavoro.\n",
    "\n",
    "* `Trainer` è un oggetto che si occupa di allenare il modello per te e di dirti come sta procedendo l'allenamento.\n",
    "* `TrainerConfig` contiene le configurazioni del `Trainer`.\n",
    "\n",
    "Per cominciare, esegui il codice qui sotto. Quando il `trainer` ha finito di allenare il modello, qual è l'accuratezza media alla fine dell'allenamento?"
   ]
  },
  {
   "cell_type": "code",
   "execution_count": 9,
   "id": "b286d8e6-9342-49d0-990a-844ef57731e3",
   "metadata": {},
   "outputs": [],
   "source": [
    "from ice.trainer import TrainerConfig, Trainer\n",
    "\n",
    "config = TrainerConfig(\n",
    "    epochs=3,\n",
    "    batch_size=16,\n",
    "    seed=42\n",
    ")"
   ]
  },
  {
   "cell_type": "code",
   "execution_count": 10,
   "id": "e0e3f1c4-070d-4c34-8192-c0dad1e9a5dd",
   "metadata": {},
   "outputs": [],
   "source": [
    "trainer = Trainer(model=model, config=config, dataset=train)"
   ]
  },
  {
   "cell_type": "code",
   "execution_count": 11,
   "id": "633848eb-1d3b-412e-9317-2f0aa626daaf",
   "metadata": {},
   "outputs": [
    {
     "name": "stdout",
     "output_type": "stream",
     "text": [
      "Epoch 1\n",
      "-------------------------------\n",
      "loss: 34.366844  [   16/42000]\n",
      "loss: 2.290202  [ 1616/42000]\n",
      "loss: 2.297963  [ 3216/42000]\n",
      "loss: 2.277119  [ 4816/42000]\n",
      "loss: 2.299528  [ 6416/42000]\n",
      "loss: 2.317482  [ 8016/42000]\n",
      "loss: 2.287484  [ 9616/42000]\n",
      "loss: 2.292357  [11216/42000]\n",
      "loss: 2.304997  [12816/42000]\n",
      "loss: 2.311709  [14416/42000]\n",
      "loss: 2.306854  [16016/42000]\n",
      "loss: 2.314174  [17616/42000]\n",
      "loss: 2.322566  [19216/42000]\n",
      "loss: 2.299625  [20816/42000]\n",
      "loss: 2.275889  [22416/42000]\n",
      "loss: 2.297017  [24016/42000]\n",
      "loss: 2.295225  [25616/42000]\n",
      "loss: 2.294410  [27216/42000]\n",
      "loss: 2.310927  [28816/42000]\n",
      "loss: 2.304986  [30416/42000]\n",
      "loss: 2.309351  [32016/42000]\n",
      "loss: 2.293427  [33616/42000]\n",
      "loss: 2.289382  [35216/42000]\n",
      "loss: 2.292025  [36816/42000]\n",
      "loss: 2.311162  [38416/42000]\n",
      "loss: 2.303856  [40016/42000]\n",
      "loss: 2.296172  [41616/42000]\n",
      "Validation Error: \n",
      " Accuracy: 11.3%, Avg loss: 2.300716 \n",
      "\n",
      "Epoch 2\n",
      "-------------------------------\n",
      "loss: 2.311061  [   16/42000]\n",
      "loss: 2.285814  [ 1616/42000]\n",
      "loss: 2.297208  [ 3216/42000]\n",
      "loss: 2.313529  [ 4816/42000]\n",
      "loss: 2.304659  [ 6416/42000]\n",
      "loss: 2.318192  [ 8016/42000]\n",
      "loss: 2.303501  [ 9616/42000]\n",
      "loss: 2.293787  [11216/42000]\n",
      "loss: 2.303690  [12816/42000]\n",
      "loss: 2.301553  [14416/42000]\n",
      "loss: 2.304393  [16016/42000]\n",
      "loss: 2.295031  [17616/42000]\n",
      "loss: 2.299303  [19216/42000]\n",
      "loss: 2.327070  [20816/42000]\n",
      "loss: 2.288338  [22416/42000]\n",
      "loss: 2.295941  [24016/42000]\n",
      "loss: 2.282265  [25616/42000]\n",
      "loss: 2.298618  [27216/42000]\n",
      "loss: 2.306761  [28816/42000]\n",
      "loss: 2.293195  [30416/42000]\n",
      "loss: 2.292046  [32016/42000]\n",
      "loss: 2.304739  [33616/42000]\n",
      "loss: 2.321079  [35216/42000]\n",
      "loss: 2.304216  [36816/42000]\n",
      "loss: 2.291725  [38416/42000]\n",
      "loss: 2.266582  [40016/42000]\n",
      "loss: 2.287731  [41616/42000]\n",
      "Validation Error: \n",
      " Accuracy: 11.3%, Avg loss: 2.300069 \n",
      "\n",
      "Epoch 3\n",
      "-------------------------------\n",
      "loss: 2.294129  [   16/42000]\n",
      "loss: 2.328221  [ 1616/42000]\n",
      "loss: 2.307795  [ 3216/42000]\n",
      "loss: 2.291106  [ 4816/42000]\n",
      "loss: 2.280265  [ 6416/42000]\n",
      "loss: 2.294114  [ 8016/42000]\n",
      "loss: 2.324262  [ 9616/42000]\n",
      "loss: 2.303397  [11216/42000]\n",
      "loss: 2.322907  [12816/42000]\n",
      "loss: 2.285361  [14416/42000]\n",
      "loss: 2.297439  [16016/42000]\n",
      "loss: 2.292507  [17616/42000]\n",
      "loss: 2.285137  [19216/42000]\n",
      "loss: 2.284084  [20816/42000]\n",
      "loss: 2.297013  [22416/42000]\n",
      "loss: 2.287991  [24016/42000]\n",
      "loss: 2.307615  [25616/42000]\n",
      "loss: 2.298436  [27216/42000]\n",
      "loss: 2.285091  [28816/42000]\n",
      "loss: 2.280745  [30416/42000]\n",
      "loss: 2.318387  [32016/42000]\n",
      "loss: 2.303689  [33616/42000]\n",
      "loss: 2.307570  [35216/42000]\n",
      "loss: 2.308455  [36816/42000]\n",
      "loss: 2.297096  [38416/42000]\n",
      "loss: 2.296767  [40016/42000]\n",
      "loss: 2.284507  [41616/42000]\n",
      "Validation Error: \n",
      " Accuracy: 11.3%, Avg loss: 2.300730 \n",
      "\n",
      "Done!\n"
     ]
    }
   ],
   "source": [
    "trainer.fit()"
   ]
  },
  {
   "cell_type": "markdown",
   "id": "7c15adf8-f93f-4286-a746-64ebceb51682",
   "metadata": {},
   "source": [
    "Come vedete, però, le prestazioni lasciano a desiderare. Forse è il caso di fare di più: pensi di potercela fare? Qualche consiglio:\n",
    "\n",
    "Modificare la rete neurale:\n",
    "\n",
    "1. Attenzione, però: non cambiare mai il numero di dimensioni iniziale (`28 * 28`) e finale (`10`), altrimenti il modello non potrà più prendere in input le immagini di MNIST, o assegnare loro la categoria.\n",
    "2. Alterna sempre un `nn.Linear(...)` con `nn.ReLU()`. Puoi anche usare `nn.Softmax()` o `nn.Tanh()`.\n",
    "3. Puoi mettere tutti i neuroni che vuoi negli strati intermedi, e anche un numero a piacere di strati. Più strati e neuroni ci sono, più il modello ci metterà tempo ad allenare, anche se avrà migliori prestazioni.\n",
    "4. Non ci sono regole per il numero di neuroni: puoi provare tanti strati con lo stesso numero, o ridurli progressivamente, o ancora prima accrescere e poi ridurre ancora. Puoi mettere più neuroni dei 784 input.\n",
    "5. Per consuetudine, usiamo numeri che sono potenze di 2 (64, 128, 256, 512, ecc) perché così il computer riesce a fare le moltiplicazioni più velocemente, e quindi il modello si allena prima. Potete cambiare di poco (510, 520...) ma consigliamo di non provare numeri troppo strani.\n",
    "\n",
    "Modificare il parametri del Trainer:\n",
    "1. Allenare per più epoche.\n",
    "2. Cambiare le dimensioni della `batch_size`. Di solito le batch non sono troppo grandi (solitamente non più di 128) ma potete provare tutte le potenze di due nel mezzo. Più la batch è grande e più il modello si allena velocemente.\n",
    "3. Cambiare il `learning_rate`. Attenzione: un learning rate più basso significa che il modello ci mette più tempo ad allenare."
   ]
  },
  {
   "cell_type": "markdown",
   "id": "e090cbfc-6187-4dc0-a6be-2993b3abc678",
   "metadata": {},
   "source": [
    "# Come valutare la qualità di un modello?"
   ]
  },
  {
   "cell_type": "markdown",
   "id": "7067e5dc-51da-4391-ab9b-2d942b922528",
   "metadata": {},
   "source": [
    "I più attenti avranno notato che, quando abbiamo caricato i dati, abbiamo sia un `train` che un `test`. Si tratta di una pratica cruciale per chi fa machine learning: tenere da parte un pezzo del dataset e non usarlo per allenare il modello. Viene messo da parte, dimenticato e sotto chiave, finché il modello non è pronto. Si usa infine il modello per comparare le prestazioni su dati che non ha visto prima. Per cui: quando siete convinti che il vostro modello sia adatto, e solo allora, eseguite le celle qui sotto e vedete come è andata 😎"
   ]
  },
  {
   "cell_type": "code",
   "execution_count": 12,
   "id": "f9868d05-2ac3-4a1b-ad06-5c724082b181",
   "metadata": {},
   "outputs": [
    {
     "data": {
      "application/vnd.jupyter.widget-view+json": {
       "model_id": "14ec41716d814d91890dfcf666aed3b6",
       "version_major": 2,
       "version_minor": 0
      },
      "text/plain": [
       "interactive(children=(IntSlider(value=5000, description='index', max=10000, min=1), Output()), _dom_classes=('…"
      ]
     },
     "metadata": {},
     "output_type": "display_data"
    }
   ],
   "source": [
    "from ice.eval import predict, evaluate\n",
    "\n",
    "predict(model=model, dataset=test)"
   ]
  },
  {
   "cell_type": "code",
   "execution_count": 13,
   "id": "90dbae8f-7909-4a3c-bfe9-a80319976821",
   "metadata": {},
   "outputs": [
    {
     "name": "stdout",
     "output_type": "stream",
     "text": [
      "Percentage: 11.35%\n"
     ]
    }
   ],
   "source": [
    "print(f\"Percentage: {evaluate(model=model, dataset=test):.2%}\")"
   ]
  }
 ],
 "metadata": {
  "kernelspec": {
   "display_name": "Python 3 (ipykernel)",
   "language": "python",
   "name": "python3"
  },
  "language_info": {
   "codemirror_mode": {
    "name": "ipython",
    "version": 3
   },
   "file_extension": ".py",
   "mimetype": "text/x-python",
   "name": "python",
   "nbconvert_exporter": "python",
   "pygments_lexer": "ipython3",
   "version": "3.10.14"
  }
 },
 "nbformat": 4,
 "nbformat_minor": 5
}
